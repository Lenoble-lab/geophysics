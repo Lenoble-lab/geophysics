{
 "cells": [
  {
   "cell_type": "markdown",
   "metadata": {},
   "source": [
    "# Rayleigh-Taylor Instability\n",
    "\n",
    "\n",
    "We will simulate the incompressible Rayleigh-Taylor instability.  We non-dimensionalize the problem by taking the box height to be one, $g = 1$, the maximum concentration at $t=0$ $C_{0} = 1$.  Then the Reynolds number is given by\n",
    "\n",
    "$$ \\mathrm{Re} = \\frac{U H}{\\nu} = \\frac{(g\\beta)^{\\frac{1}{2}}H^{\\frac{3}{2}}}{\\nu} = \\frac{\\beta^{\\frac{1}{2}}}{\\nu}.$$ where $U = \\sqrt{g \\beta H}$.\n",
    "\n",
    "We use no slip boundary conditions, and a box with aspect ratio $L/H=2$.  The fluid is initialy at rest, and only a single mode is initially excited.  We will also track a passive scalar which will help us visualize the instability.\n",
    "\n",
    "First, we import the necessary modules."
   ]
  },
  {
   "cell_type": "code",
   "execution_count": 1,
   "metadata": {},
   "outputs": [],
   "source": [
    "%matplotlib inline"
   ]
  },
  {
   "cell_type": "code",
   "execution_count": 2,
   "metadata": {},
   "outputs": [],
   "source": [
    "import numpy as np\n",
    "import matplotlib.pyplot as plt\n",
    "import h5py\n",
    "import time\n",
    "from IPython import display\n",
    "import pickle\n",
    "\n",
    "from dedalus import public as de\n",
    "from dedalus.extras import flow_tools\n",
    "\n",
    "import logging   \n",
    "logger = logging.getLogger(__name__)"
   ]
  },
  {
   "cell_type": "markdown",
   "metadata": {},
   "source": [
    "To perform an initial value problem (IVP) in Dedalus, you need three things:\n",
    "\n",
    "1. A domain to solve the problem on\n",
    "2. Equations to solve\n",
    "3. A timestepping scheme\n",
    "\n",
    "## Problem Domain\n",
    "\n",
    "First, we will specify the domain.  Domains are built by taking the direct product of bases.  Here we are running a 2D simulation, so we will define $x$ and $y$ bases.  From these, we build the domain."
   ]
  },
  {
   "cell_type": "code",
   "execution_count": 3,
   "metadata": {},
   "outputs": [],
   "source": [
    "#Aspect ratio 2\n",
    "Lx, Ly = (2., 1.)\n",
    "nx, ny = (192, 96)\n",
    "\n",
    "# Create bases and domain\n",
    "x_basis = de.Fourier('x', nx, interval=(0, Lx), dealias=3/2)\n",
    "y_basis = de.Chebyshev('y',ny, interval=(-Ly/2, Ly/2), dealias=3/2)\n",
    "domain = de.Domain([x_basis, y_basis], grid_dtype=np.float64)"
   ]
  },
  {
   "cell_type": "markdown",
   "metadata": {},
   "source": [
    "The last basis ($y$ direction) is represented in Chebyshev polynomials.  This will allow us to apply interesting boundary conditions in the $y$ direction.  We call the other directions (in this case just $x$) the \"horizontal\" directions.  The horizontal directions must be \"easy\" in the sense that taking derivatives cannot couple different horizontal modes.  Right now, we have Fourier and Sin/Cos series implemented for the horizontal directions, and are working on implementing spherical harmonics.\n",
    "\n",
    "## Equations\n",
    "\n",
    "Next we will define the equations that will be solved on this domain.  The equations are\n",
    "\n",
    "$$ \\partial_t u + \\boldsymbol{u}\\boldsymbol{\\cdot}\\boldsymbol{\\nabla} u + \\partial_x p = \\frac{1}{{\\rm Re}} \\nabla^2 u $$\n",
    "$$ \\partial_t v + \\boldsymbol{u}\\boldsymbol{\\cdot}\\boldsymbol{\\nabla} v + \\partial_y p + C = \\frac{1}{{\\rm Re}} \\nabla^2 v $$\n",
    "$$ \\boldsymbol{\\nabla}\\boldsymbol{\\cdot}\\boldsymbol{u} = 0 $$\n",
    "$$ \\partial_t C + \\boldsymbol{u}\\boldsymbol{\\cdot}\\boldsymbol{\\nabla} C = \\frac{1}{{\\rm Re}{\\rm Sc}} \\nabla^2 C $$\n",
    "\n",
    "The equations are written such that the left-hand side (LHS) is treated implicitly, and the right-hand side (RHS) is treated explicitly.  The LHS is limited to only linear terms, though linear terms can also be placed on the RHS.  Since $y$ is our special direction in this example, we also restrict the LHS to be at most first order in derivatives with respect to $y$.\n",
    "Note: The Navier-Stokes equations have been written such that $p \\rightarrow p+\\frac{y}{\\beta}$ because the gravity term in the y momentum equation of the N-S equations can be accounted for in the pressure term.\n",
    "\n",
    "We also set the parameters, the Reynolds and Schmidt numbers."
   ]
  },
  {
   "cell_type": "code",
   "execution_count": 4,
   "metadata": {},
   "outputs": [],
   "source": [
    "Reynolds = 5000\n",
    "Schmidt = 10\n",
    "#Atwood = 0.4\n",
    "\n",
    "problem = de.IVP(domain, variables=['p','u','v','uy','vy','C','Cy'])\n",
    "problem.parameters['Re'] = Reynolds\n",
    "problem.parameters['Sc'] = Schmidt\n",
    "#problem.parameters['beta'] = 2*Atwood/(1-Atwood)\n",
    "\n",
    "problem.add_equation(\"dt(u) + dx(p) - 1/Re*(dx(dx(u)) + dy(uy)) = - u*dx(u) - v*uy\")\n",
    "problem.add_equation(\"dt(v) + dy(p) - 1/Re*(dx(dx(v)) + dy(vy)) + C = - u*dx(v) - v*vy\")\n",
    "problem.add_equation(\"dx(u) + vy = 0\")\n",
    "problem.add_equation(\"dt(C) - 1/(Re*Sc)*(dx(dx(C)) + dy(Cy)) = - u*dx(C) - v*Cy\")\n",
    "problem.add_equation(\"uy - dy(u) = 0\")\n",
    "problem.add_equation(\"vy - dy(v) = 0\")\n",
    "problem.add_equation(\"Cy - dy(C) = 0\")"
   ]
  },
  {
   "cell_type": "markdown",
   "metadata": {},
   "source": [
    "Because we are using this first-order formalism, we define auxiliary variables `uy`, `vy`, and `Cy` to be the $y$-derivative of `u`, `v`, and `C` respectively.\n",
    "\n",
    "Next, we set our boundary conditions.  \"Left\" boundary conditions are applied at $y=-Ly/2$ and \"right\" boundary conditions are applied at $y=+Ly/2$."
   ]
  },
  {
   "cell_type": "code",
   "execution_count": 5,
   "metadata": {},
   "outputs": [],
   "source": [
    "problem.add_bc(\"left(uy) = 0\")\n",
    "problem.add_bc(\"right(uy) = 0\")\n",
    "problem.add_bc(\"left(v) = 0\")\n",
    "problem.add_bc(\"right(v) = 0\", condition=\"(nx != 0)\")\n",
    "problem.add_bc(\"left(p) = 0\", condition=\"(nx == 0)\")\n",
    "problem.add_bc(\"left(Cy) = 0\")\n",
    "problem.add_bc(\"right(Cy) = 0\")"
   ]
  },
  {
   "cell_type": "markdown",
   "metadata": {},
   "source": [
    "Note that we have a special boundary condition for the $k_x=0$ mode (singled out by `condition=\"(nx==0)\"`).  This is because the continuity equation implies $\\partial_y v=0$ if $k_x=0$; thus, $v=0$ on the top and bottom are redundant boundary conditions.  We replace one of these with a gauge choice for the pressure.\n"
   ]
  },
  {
   "cell_type": "markdown",
   "metadata": {},
   "source": [
    "## Timestepping\n",
    "\n",
    "We have implemented a variety of multi-step and Runge-Kutta implicit-explicit timesteppers in Dedalus.  The available options can be seen in the [timesteppers.py module](https://github.com/DedalusProject/dedalus/blob/master/dedalus/core/timesteppers.py).  For this problem, we will use a third-order, four-stage Runge-Kutta integrator.  Changing the timestepping algorithm is as easy as changing one line of code."
   ]
  },
  {
   "cell_type": "code",
   "execution_count": 6,
   "metadata": {},
   "outputs": [],
   "source": [
    "ts = de.timesteppers.RK443"
   ]
  },
  {
   "cell_type": "markdown",
   "metadata": {},
   "source": [
    "## Initial Value Problem\n",
    "\n",
    "We now have the three ingredients necessary to set up our IVP:"
   ]
  },
  {
   "cell_type": "code",
   "execution_count": 7,
   "metadata": {},
   "outputs": [
    {
     "name": "stdout",
     "output_type": "stream",
     "text": [
      "2021-01-13 17:15:10,393 pencil 0/1 INFO :: Building pencil matrix 1/96 (~1%) Elapsed: 0s, Remaining: 7s, Rate: 1.4e+01/s\n",
      "2021-01-13 17:15:10,866 pencil 0/1 INFO :: Building pencil matrix 10/96 (~10%) Elapsed: 1s, Remaining: 5s, Rate: 1.8e+01/s\n",
      "2021-01-13 17:15:11,482 pencil 0/1 INFO :: Building pencil matrix 20/96 (~21%) Elapsed: 1s, Remaining: 4s, Rate: 1.7e+01/s\n",
      "2021-01-13 17:15:11,814 pencil 0/1 INFO :: Building pencil matrix 30/96 (~31%) Elapsed: 1s, Remaining: 3s, Rate: 2.0e+01/s\n",
      "2021-01-13 17:15:12,181 pencil 0/1 INFO :: Building pencil matrix 40/96 (~42%) Elapsed: 2s, Remaining: 3s, Rate: 2.2e+01/s\n",
      "2021-01-13 17:15:12,695 pencil 0/1 INFO :: Building pencil matrix 50/96 (~52%) Elapsed: 2s, Remaining: 2s, Rate: 2.1e+01/s\n",
      "2021-01-13 17:15:13,108 pencil 0/1 INFO :: Building pencil matrix 60/96 (~62%) Elapsed: 3s, Remaining: 2s, Rate: 2.2e+01/s\n",
      "2021-01-13 17:15:13,519 pencil 0/1 INFO :: Building pencil matrix 70/96 (~73%) Elapsed: 3s, Remaining: 1s, Rate: 2.2e+01/s\n",
      "2021-01-13 17:15:13,839 pencil 0/1 INFO :: Building pencil matrix 80/96 (~83%) Elapsed: 4s, Remaining: 1s, Rate: 2.3e+01/s\n",
      "2021-01-13 17:15:14,150 pencil 0/1 INFO :: Building pencil matrix 90/96 (~94%) Elapsed: 4s, Remaining: 0s, Rate: 2.4e+01/s\n",
      "2021-01-13 17:15:14,432 pencil 0/1 INFO :: Building pencil matrix 96/96 (~100%) Elapsed: 4s, Remaining: 0s, Rate: 2.3e+01/s\n"
     ]
    }
   ],
   "source": [
    "solver =  problem.build_solver(ts)"
   ]
  },
  {
   "cell_type": "markdown",
   "metadata": {},
   "source": [
    "Now we set our initial conditions.  We set the horizontal velocity to zero and scalar field to a tanh profile, and using a single-mode initial perturbation in $v$."
   ]
  },
  {
   "cell_type": "code",
   "execution_count": 8,
   "metadata": {},
   "outputs": [
    {
     "data": {
      "text/plain": [
       "<Field 139923068953984>"
      ]
     },
     "execution_count": 8,
     "metadata": {},
     "output_type": "execute_result"
    }
   ],
   "source": [
    "x = domain.grid(0)\n",
    "y = domain.grid(1)\n",
    "u = solver.state['u']\n",
    "uy = solver.state['uy']\n",
    "v = solver.state['v']\n",
    "vy = solver.state['vy']\n",
    "C = solver.state['C']\n",
    "Cy = solver.state['Cy']\n",
    "\n",
    "gshape = domain.dist.grid_layout.global_shape(scales=1)\n",
    "slices = domain.dist.grid_layout.slices(scales=1)\n",
    "rand = np.random.RandomState(seed=42)\n",
    "noise = rand.standard_normal(gshape)[slices]\n",
    "\n",
    "pert = 5e-2*noise\n",
    "\n",
    "sigma = 0.05\n",
    "amp = -0.02\n",
    "a = 0.05\n",
    "u['g'] = 0\n",
    "v['g'] = 0\n",
    "# Single mode perturbation\n",
    "#C['g'] = np.heaviside(y-amp*np.sin(8.0*np.pi*x/Lx),1)\n",
    "C['g'] = 0.5 *(1+np.tanh((y-amp*np.sin(8.0*np.pi*x/Lx))/a))\n",
    "# noise perturbation\n",
    "#C['g'] = np.heaviside(y-pert,1)\n",
    "#C['g'] = 0.5 *(1+np.tanh((y-pert)/a))\n",
    "#C['g'] = np.heaviside(y-np.random.normal(0,sigma,np.size(y,axis = 1)),1)\n",
    "#C['g'] = 0.5 *(1+np.tanh((y-np.random.normal(0,sigma,np.size(y,axis = 1)))/a))\n",
    "u.differentiate('y',out=uy)\n",
    "v.differentiate('y',out=vy)\n",
    "C.differentiate('y',out=Cy)"
   ]
  },
  {
   "cell_type": "markdown",
   "metadata": {},
   "source": [
    "Now we set integration parameters and the CFL."
   ]
  },
  {
   "cell_type": "code",
   "execution_count": 9,
   "metadata": {},
   "outputs": [],
   "source": [
    "solver.stop_sim_time = 4.01\n",
    "solver.stop_wall_time = np.inf\n",
    "solver.stop_iteration = np.inf\n",
    "\n",
    "#initial_dt = 0.2*Lx/nx\n",
    "#cfl = flow_tools.CFL(solver,initial_dt,safety=0.8)\n",
    "#cfl.add_velocities(('u','v'))"
   ]
  },
  {
   "cell_type": "markdown",
   "metadata": {},
   "source": [
    "## Analysis\n",
    "\n",
    "We have a sophisticated analysis framework in which the user specifies analysis tasks as strings.  Users can output full data cubes, slices, volume averages, and more.  Here we will only output a few 2D slices, and a 1D profile of the horizontally averaged concentration field.  Data is output in the hdf5 file format."
   ]
  },
  {
   "cell_type": "code",
   "execution_count": 10,
   "metadata": {},
   "outputs": [],
   "source": [
    "analysis = solver.evaluator.add_file_handler('analysis_tasks', sim_dt=0.01, max_writes=500)\n",
    "analysis.add_task('C')\n",
    "analysis.add_task('u')\n",
    "analysis.add_task('Cy')\n",
    "solver.evaluator.vars['Lx'] = Lx\n",
    "analysis.add_task(\"integ(C,'x')/Lx\", name='C profile')\n",
    "analysis.add_task(\"integ(Cy,'x')/Lx\", name='dyC profile')"
   ]
  },
  {
   "cell_type": "markdown",
   "metadata": {},
   "source": [
    "## Main Loop\n",
    "\n",
    "We now have everything set up for our simulation.  In Dedalus, the user writes their own main loop."
   ]
  },
  {
   "cell_type": "code",
   "execution_count": 11,
   "metadata": {},
   "outputs": [
    {
     "data": {
      "image/png": "[encoded data removed]",
      "text/plain": [
       "<Figure size 720x360 with 1 Axes>"
      ]
     },
     "metadata": {},
     "output_type": "display_data"
    },
    {
     "name": "stdout",
     "output_type": "stream",
     "text": [
      "2021-01-13 17:16:38,883 __main__ 0/1 INFO :: Iteration: 310, Time: 6.200000e-01, dt: 2.000000e-03\n"
     ]
    },
    {
     "ename": "KeyboardInterrupt",
     "evalue": "",
     "output_type": "error",
     "traceback": [
      "\u001b[0;31m---------------------------------------------------------------------------\u001b[0m",
      "\u001b[0;31mKeyboardInterrupt\u001b[0m                         Traceback (most recent call last)",
      "\u001b[0;32m<ipython-input-11-45c0cd8f9410>\u001b[0m in \u001b[0;36m<module>\u001b[0;34m\u001b[0m\n\u001b[1;32m     16\u001b[0m     \u001b[0;31m#print(dt)\u001b[0m\u001b[0;34m\u001b[0m\u001b[0;34m\u001b[0m\u001b[0;34m\u001b[0m\u001b[0m\n\u001b[1;32m     17\u001b[0m     \u001b[0;31m#time.sleep(5)\u001b[0m\u001b[0;34m\u001b[0m\u001b[0;34m\u001b[0m\u001b[0;34m\u001b[0m\u001b[0m\n\u001b[0;32m---> 18\u001b[0;31m     \u001b[0msolver\u001b[0m\u001b[0;34m.\u001b[0m\u001b[0mstep\u001b[0m\u001b[0;34m(\u001b[0m\u001b[0mdt\u001b[0m\u001b[0;34m)\u001b[0m\u001b[0;34m\u001b[0m\u001b[0;34m\u001b[0m\u001b[0m\n\u001b[0m\u001b[1;32m     19\u001b[0m     \u001b[0;32mif\u001b[0m \u001b[0msolver\u001b[0m\u001b[0;34m.\u001b[0m\u001b[0miteration\u001b[0m \u001b[0;34m%\u001b[0m \u001b[0;36m10\u001b[0m \u001b[0;34m==\u001b[0m \u001b[0;36m0\u001b[0m\u001b[0;34m:\u001b[0m\u001b[0;34m\u001b[0m\u001b[0;34m\u001b[0m\u001b[0m\n\u001b[1;32m     20\u001b[0m         \u001b[0;31m# Update plot of scalar field\u001b[0m\u001b[0;34m\u001b[0m\u001b[0;34m\u001b[0m\u001b[0;34m\u001b[0m\u001b[0m\n",
      "\u001b[0;32m~/miniconda3/envs/dedalus/lib/python3.8/site-packages/dedalus/core/solvers.py\u001b[0m in \u001b[0;36mstep\u001b[0;34m(self, dt, trim)\u001b[0m\n\u001b[1;32m    505\u001b[0m         \u001b[0mself\u001b[0m\u001b[0;34m.\u001b[0m\u001b[0mstate\u001b[0m\u001b[0;34m.\u001b[0m\u001b[0mgather\u001b[0m\u001b[0;34m(\u001b[0m\u001b[0;34m)\u001b[0m\u001b[0;34m\u001b[0m\u001b[0;34m\u001b[0m\u001b[0m\n\u001b[1;32m    506\u001b[0m         \u001b[0;31m# Advance using timestepper\u001b[0m\u001b[0;34m\u001b[0m\u001b[0;34m\u001b[0m\u001b[0;34m\u001b[0m\u001b[0m\n\u001b[0;32m--> 507\u001b[0;31m         \u001b[0mself\u001b[0m\u001b[0;34m.\u001b[0m\u001b[0mtimestepper\u001b[0m\u001b[0;34m.\u001b[0m\u001b[0mstep\u001b[0m\u001b[0;34m(\u001b[0m\u001b[0mself\u001b[0m\u001b[0;34m,\u001b[0m \u001b[0mdt\u001b[0m\u001b[0;34m)\u001b[0m\u001b[0;34m\u001b[0m\u001b[0;34m\u001b[0m\u001b[0m\n\u001b[0m\u001b[1;32m    508\u001b[0m         \u001b[0;31m# (Safety scatter)\u001b[0m\u001b[0;34m\u001b[0m\u001b[0;34m\u001b[0m\u001b[0;34m\u001b[0m\u001b[0m\n\u001b[1;32m    509\u001b[0m         \u001b[0mself\u001b[0m\u001b[0;34m.\u001b[0m\u001b[0mstate\u001b[0m\u001b[0;34m.\u001b[0m\u001b[0mscatter\u001b[0m\u001b[0;34m(\u001b[0m\u001b[0;34m)\u001b[0m\u001b[0;34m\u001b[0m\u001b[0;34m\u001b[0m\u001b[0m\n",
      "\u001b[0;32m~/miniconda3/envs/dedalus/lib/python3.8/site-packages/dedalus/core/timesteppers.py\u001b[0m in \u001b[0;36mstep\u001b[0;34m(self, solver, dt)\u001b[0m\n\u001b[1;32m    562\u001b[0m             \u001b[0mLXi\u001b[0m\u001b[0;34m.\u001b[0m\u001b[0mdata\u001b[0m\u001b[0;34m.\u001b[0m\u001b[0mfill\u001b[0m\u001b[0;34m(\u001b[0m\u001b[0;36m0\u001b[0m\u001b[0;34m)\u001b[0m\u001b[0;34m\u001b[0m\u001b[0;34m\u001b[0m\u001b[0m\n\u001b[1;32m    563\u001b[0m             \u001b[0;32mfor\u001b[0m \u001b[0mp\u001b[0m \u001b[0;32min\u001b[0m \u001b[0mpencils\u001b[0m\u001b[0;34m:\u001b[0m\u001b[0;34m\u001b[0m\u001b[0;34m\u001b[0m\u001b[0m\n\u001b[0;32m--> 564\u001b[0;31m                 \u001b[0mfast_csr_matvec\u001b[0m\u001b[0;34m(\u001b[0m\u001b[0mp\u001b[0m\u001b[0;34m.\u001b[0m\u001b[0mL\u001b[0m\u001b[0;34m,\u001b[0m \u001b[0mstate\u001b[0m\u001b[0;34m.\u001b[0m\u001b[0mget_pencil\u001b[0m\u001b[0;34m(\u001b[0m\u001b[0mp\u001b[0m\u001b[0;34m)\u001b[0m\u001b[0;34m,\u001b[0m \u001b[0mLXi\u001b[0m\u001b[0;34m.\u001b[0m\u001b[0mget_pencil\u001b[0m\u001b[0;34m(\u001b[0m\u001b[0mp\u001b[0m\u001b[0;34m)\u001b[0m\u001b[0;34m)\u001b[0m\u001b[0;34m\u001b[0m\u001b[0;34m\u001b[0m\u001b[0m\n\u001b[0m\u001b[1;32m    565\u001b[0m \u001b[0;34m\u001b[0m\u001b[0m\n\u001b[1;32m    566\u001b[0m             \u001b[0;31m# Compute F(n,i-1)\u001b[0m\u001b[0;34m\u001b[0m\u001b[0;34m\u001b[0m\u001b[0;34m\u001b[0m\u001b[0m\n",
      "\u001b[0;32m~/miniconda3/envs/dedalus/lib/python3.8/site-packages/dedalus/core/system.py\u001b[0m in \u001b[0;36mget_pencil\u001b[0;34m(self, pencil)\u001b[0m\n\u001b[1;32m     40\u001b[0m     \u001b[0;32mdef\u001b[0m \u001b[0mget_pencil\u001b[0m\u001b[0;34m(\u001b[0m\u001b[0mself\u001b[0m\u001b[0;34m,\u001b[0m \u001b[0mpencil\u001b[0m\u001b[0;34m)\u001b[0m\u001b[0;34m:\u001b[0m\u001b[0;34m\u001b[0m\u001b[0;34m\u001b[0m\u001b[0m\n\u001b[1;32m     41\u001b[0m         \u001b[0;34m\"\"\"Return pencil view from system buffer.\"\"\"\u001b[0m\u001b[0;34m\u001b[0m\u001b[0;34m\u001b[0m\u001b[0m\n\u001b[0;32m---> 42\u001b[0;31m         \u001b[0;32mreturn\u001b[0m \u001b[0mself\u001b[0m\u001b[0;34m.\u001b[0m\u001b[0mdata\u001b[0m\u001b[0;34m[\u001b[0m\u001b[0mpencil\u001b[0m\u001b[0;34m.\u001b[0m\u001b[0mlocal_index\u001b[0m\u001b[0;34m]\u001b[0m\u001b[0;34m\u001b[0m\u001b[0;34m\u001b[0m\u001b[0m\n\u001b[0m\u001b[1;32m     43\u001b[0m \u001b[0;34m\u001b[0m\u001b[0m\n\u001b[1;32m     44\u001b[0m     \u001b[0;32mdef\u001b[0m \u001b[0mset_pencil\u001b[0m\u001b[0;34m(\u001b[0m\u001b[0mself\u001b[0m\u001b[0;34m,\u001b[0m \u001b[0mpencil\u001b[0m\u001b[0;34m,\u001b[0m \u001b[0mdata\u001b[0m\u001b[0;34m)\u001b[0m\u001b[0;34m:\u001b[0m\u001b[0;34m\u001b[0m\u001b[0;34m\u001b[0m\u001b[0m\n",
      "\u001b[0;31mKeyboardInterrupt\u001b[0m: "
     ]
    },
    {
     "data": {
      "image/png": "[encoded data removed]",
      "text/plain": [
       "<Figure size 720x360 with 1 Axes>"
      ]
     },
     "metadata": {
      "needs_background": "light"
     },
     "output_type": "display_data"
    }
   ],
   "source": [
    "# Make plot of scalar field\n",
    "x = domain.grid(0,scales=domain.dealias)\n",
    "y = domain.grid(1,scales=domain.dealias)\n",
    "xm, ym = np.meshgrid(x,y)\n",
    "fig, axis = plt.subplots(figsize=(10,5))\n",
    "p = axis.pcolormesh(xm, ym, C['g'].T, cmap='RdBu_r');\n",
    "axis.set_xlim([0,2.])\n",
    "axis.set_ylim([-0.5,0.5])\n",
    "slidesRTxy2 = []\n",
    "\n",
    "logger.info('Starting loop')\n",
    "start_time = time.time()\n",
    "while solver.ok:\n",
    "    #dt = cfl.compute_dt()\n",
    "    dt = 2e-3\n",
    "    #print(dt)\n",
    "    #time.sleep(5)\n",
    "    solver.step(dt)\n",
    "    if solver.iteration % 10 == 0:\n",
    "        # Update plot of scalar field\n",
    "        p.set_array(np.ravel(C['g'][:-1,:-1].T))\n",
    "        display.clear_output()\n",
    "        display.display(plt.gcf())\n",
    "        logger.info('Iteration: %i, Time: %e, dt: %e' %(solver.iteration, solver.sim_time, dt))\n",
    "        slidesRTxy2.append(np.copy(C['g'].T))\n",
    "        \n",
    "end_time = time.time()\n",
    "with open ('SaveRTxy.p', 'wb') as pfile :\n",
    "    pickle.dump(slidesRTxy2, pfile)\n",
    "p.set_array(np.ravel(C['g'][:-1,:-1].T))\n",
    "display.clear_output()\n",
    "# Print statistics\n",
    "logger.info('Run time: %f' %(end_time-start_time))\n",
    "logger.info('Iterations: %i' %solver.iteration)"
   ]
  },
  {
   "cell_type": "markdown",
   "metadata": {},
   "source": [
    "## Analysis\n",
    "\n",
    "As an example of doing some analysis, we will load in the horizontally averaged profiles of the scalar field $s$ and plot them."
   ]
  },
  {
   "cell_type": "code",
   "execution_count": null,
   "metadata": {},
   "outputs": [],
   "source": [
    "# Read in the data\n",
    "f = h5py.File('analysis_tasks/analysis_tasks_s1/analysis_tasks_s1_p0.h5','r')\n",
    "y = f['/scales/y/1.0'][:]\n",
    "t = f['scales']['sim_time'][:]\n",
    "t1 = f['scales']['sim_time'][:]\n",
    "C_ave = f['tasks']['C profile'][:]\n",
    "dyC_ave = f['tasks']['dyC profile'][:]\n",
    "f.close()\n",
    "\n",
    "C_ave = C_ave[:,0,:] # remove length-one x dimension\n",
    "dyC_ave = dyC_ave[:,0,:] # remove length-one x dimension"
   ]
  },
  {
   "cell_type": "code",
   "execution_count": null,
   "metadata": {},
   "outputs": [],
   "source": [
    "#N = len(S_ave[:,1])\n",
    "for i in range(0,41,5):\n",
    "  plt.plot(C_ave[i,:],y,label='t=%4.2f' %t[i])\n",
    "\n",
    "plt.ylim([-0.5,0.5])\n",
    "plt.xlim([0,1])\n",
    "plt.xlabel(r'$\\frac{1}{L_x}\\int \\ C dx$',fontsize=24)\n",
    "plt.ylabel(r'$y$',fontsize=24)\n",
    "plt.legend(loc='lower right').draw_frame(False)"
   ]
  },
  {
   "cell_type": "code",
   "execution_count": null,
   "metadata": {},
   "outputs": [],
   "source": [
    "for i in range(0,41,5):\n",
    "  plt.plot(dyC_ave[i,:],y,label='t=%4.2f' %t[i])\n",
    "\n",
    "plt.ylim([-0.5,0.5])\n",
    "plt.xlim([0,np.max(dyC_ave)])\n",
    "plt.xlabel(r'$\\frac{1}{L_x}\\int \\ \\frac{\\partial C}{\\partial y} dx$',fontsize=24)\n",
    "plt.ylabel(r'$y$',fontsize=24)\n",
    "plt.legend(loc='lower right').draw_frame(False)"
   ]
  },
  {
   "cell_type": "code",
   "execution_count": null,
   "metadata": {},
   "outputs": [],
   "source": [
    "h = np.zeros(np.shape(t))\n",
    "s = 1e-2\n",
    "for i in range(1,len(t)):\n",
    "  h1, h2 = 0,0\n",
    "  p = 0\n",
    "  while dyC_ave[i,p] < s:\n",
    "     p += 1\n",
    "     \n",
    "  h1  = y[p]\n",
    "  \n",
    "  \n",
    "  for k in range(p,len(y)):\n",
    "      if dyC_ave[i,k] < s:\n",
    "         p = k\n",
    "        \n",
    "  h2 = y[p]\n",
    "\n",
    "  h[i] = np.abs(h1 - h2)\n",
    "plt.loglog(t,h)\n",
    "\n",
    "plt.xlim([1e-2,4])\n",
    "plt.ylim([1e-2,np.max(h)*1.1])\n",
    "plt.ylabel(r'$h$',fontsize=24)\n",
    "plt.xlabel(r'$t$',fontsize=24)\n",
    "plt.grid()"
   ]
  },
  {
   "cell_type": "code",
   "execution_count": null,
   "metadata": {},
   "outputs": [],
   "source": []
  }
 ],
 "metadata": {
  "kernelspec": {
   "display_name": "Python 3",
   "language": "python",
   "name": "python3"
  },
  "language_info": {
   "codemirror_mode": {
    "name": "ipython",
    "version": 3
   },
   "file_extension": ".py",
   "mimetype": "text/x-python",
   "name": "python",
   "nbconvert_exporter": "python",
   "pygments_lexer": "ipython3",
   "version": "3.8.6"
  }
 },
 "nbformat": 4,
 "nbformat_minor": 1
}
