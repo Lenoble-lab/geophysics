{
 "cells": [
  {
   "cell_type": "markdown",
   "metadata": {},
   "source": [
    "# Rayleigh-Taylor Instability\n",
    "\n",
    "\n",
    "We will simulate the incompressible Rayleigh-Taylor instability.  We non-dimensionalize the problem by taking the box height to be one, $g = 1$, the maximum concentration at $t=0$ $C_{0} = 1$.  Then the Reynolds number is given by\n",
    "\n",
    "$$ \\mathrm{Re} = \\frac{U H}{\\nu} = \\frac{(g\\beta)^{\\frac{1}{2}}H^{\\frac{3}{2}}}{\\nu} = \\frac{\\beta^{\\frac{1}{2}}}{\\nu}.$$ where $U = \\sqrt{g \\beta H}$.\n",
    "\n",
    "We use no slip boundary conditions, and a box with aspect ratio $L/H=2$.  The fluid is initialy at rest, and only a single mode is initially excited.  We will also track a passive scalar which will help us visualize the instability.\n",
    "\n",
    "First, we import the necessary modules."
   ]
  },
  {
   "cell_type": "code",
   "execution_count": 1,
   "metadata": {},
   "outputs": [],
   "source": [
    "%matplotlib inline"
   ]
  },
  {
   "cell_type": "code",
   "execution_count": 2,
   "metadata": {},
   "outputs": [],
   "source": [
    "import numpy as np\n",
    "import matplotlib.pyplot as plt\n",
    "import h5py\n",
    "import time\n",
    "from IPython import display\n",
    "\n",
    "from dedalus import public as de\n",
    "from dedalus.extras import flow_tools\n",
    "\n",
    "import logging   \n",
    "logger = logging.getLogger(__name__)"
   ]
  },
  {
   "cell_type": "markdown",
   "metadata": {},
   "source": [
    "To perform an initial value problem (IVP) in Dedalus, you need three things:\n",
    "\n",
    "1. A domain to solve the problem on\n",
    "2. Equations to solve\n",
    "3. A timestepping scheme\n",
    "\n",
    "## Problem Domain\n",
    "\n",
    "First, we will specify the domain.  Domains are built by taking the direct product of bases.  Here we are running a 2D simulation, so we will define $x$ and $y$ bases.  From these, we build the domain."
   ]
  },
  {
   "cell_type": "code",
   "execution_count": 3,
   "metadata": {},
   "outputs": [],
   "source": [
    "R, Angle = (1., np.pi)\n",
    "l, n = (192, 96)\n",
    "epsilon = 1e-1\n",
    "\n",
    "# Create bases and domain\n",
    "r_basis = de.Chebyshev('r', n, interval=(R, 2*R), dealias=3/2)\n",
    "#theta_basis = de.Fourier('th',l, interval=(epsilon,Angle-epsilon), dealias=3/2)\n",
    "theta_basis = de.SinCos('th',l, interval=(epsilon,Angle-epsilon), dealias=3/2)\n",
    "domain = de.Domain([theta_basis, r_basis], grid_dtype=np.float64)"
   ]
  },
  {
   "cell_type": "markdown",
   "metadata": {},
   "source": [
    "The last basis ($y$ direction) is represented in Chebyshev polynomials.  This will allow us to apply interesting boundary conditions in the $y$ direction.  We call the other directions (in this case just $x$) the \"horizontal\" directions.  The horizontal directions must be \"easy\" in the sense that taking derivatives cannot couple different horizontal modes.  Right now, we have Fourier and Sin/Cos series implemented for the horizontal directions, and are working on implementing spherical harmonics.\n",
    "\n",
    "## Equations\n",
    "\n",
    "Next we will define the equations that will be solved on this domain.  The equations are\n",
    "\n",
    "$$\\partial_{t}u_{r}+u_{r}\\partial_{r}u_{r}+\\frac{u_{\\theta}}{r}\\partial_{\\theta}u_{r}+\\partial_{r}p+Ccos(\\theta)=\\frac{1}{Re}\\left(\\partial_{rr}u_{r}+\\frac{2}{r}\\partial_{r}u_{r}+\\frac{1}{r^2sin(\\theta)}\\partial_{\\theta}(sin(\\theta)\\partial_{\\theta}u_{r})-2\\frac{u_{r}}{r^{2}}-\\frac{2}{r²}\\partial_{\\theta} u_{\\theta}-2cotan(\\theta)\\frac{u_{\\theta}}{r^{2}}\\right)$$\n",
    "\n",
    "$$\\partial_{t} u_{\\theta} + u_{r}\\partial_{r}u_{\\theta} + \\frac{u_{\\theta}}{r}\\partial_{\\theta}u_{\\theta} = - \\frac{1}{r}\\partial_{\\theta}p + C\\sin(\\theta) + \\frac{1}{Re}\\left(\\partial_{rr}u_{\\theta}+\\frac{2}{r}\\partial_{r}u_{\\theta}+\\frac{1}{r^2sin(\\theta)}\\partial_{\\theta}(sin(\\theta)\\partial_{\\theta}u_{\\theta}) - \\frac{u_{\\theta}}{r^{2}\\sin^{2}(\\theta)} + \\frac{2}{r^{2}}\\partial_{\\theta}u_{r}\\right)$$\n",
    "\n",
    "$$\\partial_{r}u_{r}+\\frac{2}{r}u_{r} + \\frac{1}{r\\sin{\\theta}}\\partial_{\\theta}(\\sin{(\\theta)}u_{\\theta}) = 0$$\n",
    "\n",
    "\n",
    "$$ \\partial_{t}C+u_{r}\\partial_{r}C+\\frac{u_{\\theta}}{r}\\partial_{\\theta}C=\\frac{1}{ReSc}\\left(\\partial_{rr}C+\\frac{2}{r}\\partial_{r}C+\\frac{1}{r^2sin(\\theta)}\\partial_{\\theta}(sin(\\theta)\\partial_{\\theta}C)\\right)$$\n",
    "\n",
    "The equations are written such that the left-hand side (LHS) is treated implicitly, and the right-hand side (RHS) is treated explicitly.  The LHS is limited to only linear terms, though linear terms can also be placed on the RHS.  Since $y$ is our special direction in this example, we also restrict the LHS to be at most first order in derivatives with respect to $y$.\n",
    "Note: The Navier-Stokes equations have been written such that $p \\rightarrow p+\\frac{y}{\\beta}$ because the gravity term in the y momentum equation of the N-S equations can be accounted for in the pressure term.\n",
    "\n",
    "\n",
    "\n",
    "We also set the parameters, the Reynolds and Schmidt numbers."
   ]
  },
  {
   "cell_type": "code",
   "execution_count": 4,
   "metadata": {},
   "outputs": [],
   "source": [
    "Reynolds = 300\n",
    "Schmidt = 10\n",
    "\n",
    "problem = de.IVP(domain, variables=['p','ur','uth','drur','druth','C','drC'])\n",
    "\n",
    "# Dedealus n'évalue que la partié des champs crés, il ne s'intéresse pas aux coefficients variables \n",
    "th, r = domain.grids(scales=1)\n",
    "sine = domain.new_field()\n",
    "sine['g'] = np.sin(th)\n",
    "sine.meta['r']['constant'] = True\n",
    "sine.meta['th']['parity'] = -1\n",
    "problem.parameters['Sinus'] = sine\n",
    "\n",
    "problem.meta['p']['th']['parity'] = 1\n",
    "problem.meta['ur','drur']['th']['parity'] = 1\n",
    "problem.meta['uth','druth']['th']['parity'] = -1\n",
    "problem.meta['C','drC']['th']['parity'] = 1\n",
    "\n",
    "\n",
    "problem.parameters['Re'] = Reynolds\n",
    "problem.parameters['Sc'] = Schmidt\n",
    "\n",
    "#problem.add_equation(\"dt(ur) + dr(p)  - 1/Re * (dr(drur) + 2/r * drur + 1/r**2  * dth(dth(ur)) - 2 * ur/r**2 - 2/r**2 * dth(uth) ) = -ur*drur - uth/r * dth(ur) - C * cos(th) + 1/Re * ( cos(th)/(r**2 * sin(th)) * dth(ur) - 2 * cos(th)/sin(th)*uth/r**2) \")\n",
    "#problem.add_equation(\"dt(uth) + 1/r * dth(p) - 1/Re* (dr(druth) + 2/r * druth + 1/r**2 * dth(dth(uth)) + 2/r**2 * dth(ur) ) = - ur*druth - uth/r*dth(uth) + C * sin(th) + 1/Re * ( cos(th)/(r**2 * sin(th)) * dth(uth) - uth/(r**2 * sin(th)**2))\")\n",
    "#problem.add_equation(\"drur + 2/r*ur + 1/r * dth(uth) = -cos(th)/(r*sin(th)) * uth\")\n",
    "#problem.add_equation(\"dt(C) - 1/(Re*Sc)*( dr(drC) + 2/r * drC + 1/r**2 * dth(dth(C))) = 1/(Re * Sc) * cos(th)/ (r**2 * sin(th)) * dth(C) - ur*drC - uth/r*dth(C) \")\n",
    "\n",
    "\n",
    "problem.add_equation(\"dt(ur) + dr(p)  - 1/Re * (dr(drur) + 2/r * drur + 1/r**2  * dth(dth(ur)) - 2 * ur/r**2 - 2/r**2 * dth(uth) ) = -ur*drur - uth/r * dth(ur) - C * cos(th) + 1/Re * ( cos(th)/(r**2 * Sinus) * dth(ur) - 2 * cos(th)/Sinus *uth/r**2) \")\n",
    "problem.add_equation(\"dt(uth) + 1/r * dth(p) - 1/Re* (dr(druth) + 2/r * druth + 1/r**2 * dth(dth(uth)) + 2/r**2 * dth(ur) ) = - ur*druth - uth/r*dth(uth) + C * Sinus + 1/Re * ( cos(th)/(r**2 * Sinus) * dth(uth) - uth/(r**2 * Sinus**2))\")\n",
    "problem.add_equation(\"drur + 2/r*ur + 1/r * dth(uth) = -cos(th)/(r*Sinus) * uth\")\n",
    "problem.add_equation(\"dt(C) - 1/(Re*Sc)*( dr(drC) + 2/r * drC + 1/r**2 * dth(dth(C))) = 1/(Re * Sc) * cos(th)/ (r**2 * Sinus) * dth(C) - ur*drC - uth/r*dth(C) \")\n",
    "\n",
    "problem.add_equation(\"drur - dr(ur) = 0\")\n",
    "problem.add_equation(\"druth - dr(uth) = 0\")\n",
    "problem.add_equation(\"drC - dr(C) = 0\")\n"
   ]
  },
  {
   "cell_type": "markdown",
   "metadata": {},
   "source": [
    "Because we are using this first-order formalism, we define auxiliary variables `uy`, `vy`, and `Cy` to be the $y$-derivative of `u`, `v`, and `C` respectively.\n",
    "\n",
    "Next, we set our boundary conditions.  \"Left\" boundary conditions are applied at $y=-Ly/2$ and \"right\" boundary conditions are applied at $y=+Ly/2$."
   ]
  },
  {
   "cell_type": "code",
   "execution_count": 5,
   "metadata": {},
   "outputs": [],
   "source": [
    "problem.add_bc(\"left(ur) = 0\")\n",
    "problem.add_bc(\"right(ur) = 0\", condition=\"(nth != 0)\") #Dedalus numérote les modes avec n + nom de la variable séparable\n",
    "problem.add_bc(\"right(p) = 0\", condition =\"(nth == 0)\")\n",
    "problem.add_bc(\"left(druth) = 0\")\n",
    "problem.add_bc(\"right(druth) = 0\")\n",
    "problem.add_bc(\"left(drC) = 0\")\n",
    "problem.add_bc(\"right(drC) = 0\")"
   ]
  },
  {
   "cell_type": "markdown",
   "metadata": {},
   "source": [
    "Note that we have a special boundary condition for the $k_x=0$ mode (singled out by `condition=\"(nx==0)\"`).  This is because the continuity equation implies $\\partial_y v=0$ if $k_x=0$; thus, $v=0$ on the top and bottom are redundant boundary conditions.  We replace one of these with a gauge choice for the pressure.\n"
   ]
  },
  {
   "cell_type": "markdown",
   "metadata": {},
   "source": [
    "## Timestepping\n",
    "\n",
    "We have implemented a variety of multi-step and Runge-Kutta implicit-explicit timesteppers in Dedalus.  The available options can be seen in the [timesteppers.py module](https://github.com/DedalusProject/dedalus/blob/master/dedalus/core/timesteppers.py).  For this problem, we will use a third-order, four-stage Runge-Kutta integrator.  Changing the timestepping algorithm is as easy as changing one line of code."
   ]
  },
  {
   "cell_type": "code",
   "execution_count": 6,
   "metadata": {},
   "outputs": [],
   "source": [
    "ts = de.timesteppers.RK443\n",
    "#ts = de.timesteppers.RK111"
   ]
  },
  {
   "cell_type": "markdown",
   "metadata": {},
   "source": [
    "## Initial Value Problem\n",
    "\n",
    "We now have the three ingredients necessary to set up our IVP:"
   ]
  },
  {
   "cell_type": "code",
   "execution_count": 7,
   "metadata": {},
   "outputs": [
    {
     "name": "stdout",
     "output_type": "stream",
     "text": [
      "2020-12-22 11:27:34,762 pencil 0/1 INFO :: Building pencil matrix 1/192 (~1%) Elapsed: 0s, Remaining: 7s, Rate: 2.6e+01/s\n",
      "2020-12-22 11:27:35,599 pencil 0/1 INFO :: Building pencil matrix 20/192 (~10%) Elapsed: 1s, Remaining: 8s, Rate: 2.3e+01/s\n",
      "2020-12-22 11:27:36,498 pencil 0/1 INFO :: Building pencil matrix 40/192 (~21%) Elapsed: 2s, Remaining: 7s, Rate: 2.3e+01/s\n",
      "2020-12-22 11:27:37,303 pencil 0/1 INFO :: Building pencil matrix 60/192 (~31%) Elapsed: 3s, Remaining: 6s, Rate: 2.3e+01/s\n",
      "2020-12-22 11:27:38,066 pencil 0/1 INFO :: Building pencil matrix 80/192 (~42%) Elapsed: 3s, Remaining: 5s, Rate: 2.4e+01/s\n",
      "2020-12-22 11:27:38,868 pencil 0/1 INFO :: Building pencil matrix 100/192 (~52%) Elapsed: 4s, Remaining: 4s, Rate: 2.4e+01/s\n",
      "2020-12-22 11:27:39,859 pencil 0/1 INFO :: Building pencil matrix 120/192 (~62%) Elapsed: 5s, Remaining: 3s, Rate: 2.3e+01/s\n",
      "2020-12-22 11:27:40,762 pencil 0/1 INFO :: Building pencil matrix 140/192 (~73%) Elapsed: 6s, Remaining: 2s, Rate: 2.3e+01/s\n",
      "2020-12-22 11:27:41,608 pencil 0/1 INFO :: Building pencil matrix 160/192 (~83%) Elapsed: 7s, Remaining: 1s, Rate: 2.3e+01/s\n",
      "2020-12-22 11:27:42,553 pencil 0/1 INFO :: Building pencil matrix 180/192 (~94%) Elapsed: 8s, Remaining: 1s, Rate: 2.3e+01/s\n",
      "2020-12-22 11:27:43,101 pencil 0/1 INFO :: Building pencil matrix 192/192 (~100%) Elapsed: 8s, Remaining: 0s, Rate: 2.3e+01/s\n"
     ]
    }
   ],
   "source": [
    "solver =  problem.build_solver(ts)"
   ]
  },
  {
   "cell_type": "markdown",
   "metadata": {},
   "source": [
    "Now we set our initial conditions.  We set the horizontal velocity to zero and scalar field to a tanh profile, and using a single-mode initial perturbation in $v$."
   ]
  },
  {
   "cell_type": "code",
   "execution_count": 8,
   "metadata": {},
   "outputs": [
    {
     "name": "stdout",
     "output_type": "stream",
     "text": [
      "[[1. 1. 1. ... 1. 1. 1.]\n",
      " [1. 1. 1. ... 1. 1. 1.]\n",
      " [1. 1. 1. ... 1. 1. 1.]\n",
      " ...\n",
      " [0. 0. 0. ... 0. 0. 0.]\n",
      " [0. 0. 0. ... 0. 0. 0.]\n",
      " [0. 0. 0. ... 0. 0. 0.]]\n"
     ]
    },
    {
     "data": {
      "text/plain": [
       "<Field 139714970857872>"
      ]
     },
     "execution_count": 8,
     "metadata": {},
     "output_type": "execute_result"
    }
   ],
   "source": [
    "r = domain.grid(1)\n",
    "th = domain.grid(0)\n",
    "ur = solver.state['ur']\n",
    "drur = solver.state['drur']\n",
    "uth = solver.state['uth']\n",
    "druth = solver.state['druth']\n",
    "C = solver.state['C']\n",
    "drC = solver.state['drC']\n",
    "\n",
    "\n",
    "gshape = domain.dist.grid_layout.global_shape(scales=1)\n",
    "slices = domain.dist.grid_layout.slices(scales=1)\n",
    "rand = np.random.RandomState(seed=42)\n",
    "noise = rand.standard_normal(gshape)[slices]\n",
    "\n",
    "pert =  1e-2 * noise\n",
    "\n",
    "amp = -0.00\n",
    "a = 0.01\n",
    "ur['g'] = 0\n",
    "uth['g'] = 0\n",
    "# Single mode perturbation\n",
    "C['g'] = 0.5 *(1+np.tanh((3/2+amp*np.sin(12 * th )-r)/a))\n",
    "print(C['g'].T)\n",
    "# noise perturbation\n",
    "#C['g'] = np.heaviside(y-pert,1)\n",
    "ur.differentiate('r',out=drur)\n",
    "uth.differentiate('r',out=druth)\n",
    "C.differentiate('r',out=drC)"
   ]
  },
  {
   "cell_type": "markdown",
   "metadata": {},
   "source": [
    "Now we set integration parameters and the CFL."
   ]
  },
  {
   "cell_type": "code",
   "execution_count": 9,
   "metadata": {},
   "outputs": [],
   "source": [
    "solver.stop_sim_time = 3\n",
    "solver.stop_wall_time = np.inf\n",
    "solver.stop_iteration = np.inf\n",
    "\n",
    "#initial_dt = 0.2*Lx/nx\n",
    "#cfl = flow_tools.CFL(solver,initial_dt,safety=0.8)\n",
    "#cfl.add_velocities(('u','v'))"
   ]
  },
  {
   "cell_type": "markdown",
   "metadata": {},
   "source": [
    "## Analysis\n",
    "\n",
    "We have a sophisticated analysis framework in which the user specifies analysis tasks as strings.  Users can output full data cubes, slices, volume averages, and more.  Here we will only output a few 2D slices, and a 1D profile of the horizontally averaged concentration field.  Data is output in the hdf5 file format."
   ]
  },
  {
   "cell_type": "code",
   "execution_count": 10,
   "metadata": {},
   "outputs": [],
   "source": [
    "analysis = solver.evaluator.add_file_handler('analysis_tasks', sim_dt=0.1, max_writes=50)\n",
    "analysis.add_task('C')\n",
    "analysis.add_task('ur')\n",
    "solver.evaluator.vars['Angle'] = Angle\n",
    "analysis.add_task(\"integ(C,'th')/Angle\", name='C profile')"
   ]
  },
  {
   "cell_type": "markdown",
   "metadata": {},
   "source": [
    "## Main Loop\n",
    "\n",
    "We now have everything set up for our simulation.  In Dedalus, the user writes their own main loop."
   ]
  },
  {
   "cell_type": "code",
   "execution_count": 11,
   "metadata": {},
   "outputs": [
    {
     "name": "stdout",
     "output_type": "stream",
     "text": [
      "2020-12-22 12:26:33,521 __main__ 0/1 INFO :: Run time: 3529.982053\n",
      "2020-12-22 12:26:33,523 __main__ 0/1 INFO :: Iterations: 3001\n"
     ]
    },
    {
     "data": {
      "image/png": "[encoded data removed]",
      "text/plain": [
       "<Figure size 720x360 with 1 Axes>"
      ]
     },
     "metadata": {
      "needs_background": "light"
     },
     "output_type": "display_data"
    }
   ],
   "source": [
    "# Make plot of scalar field\n",
    "r = domain.grid(1,scales=domain.dealias)\n",
    "th = domain.grid(0,scales=domain.dealias)\n",
    "thm, rm = np.meshgrid(th,r)\n",
    "fig, axis = plt.subplots(figsize=(10,5))\n",
    "p = axis.pcolormesh(thm, rm, C['g'].T, cmap='RdBu_r');\n",
    "axis.set_xlim([0,np.pi])\n",
    "axis.set_ylim([1,2])\n",
    "\n",
    "logger.info('Starting loop')\n",
    "start_time = time.time()\n",
    "while solver.ok:\n",
    "    #dt = cfl.compute_dt()\n",
    "    dt = 1e-3\n",
    "    #print(dt)\n",
    "    #time.sleep(5)\n",
    "    solver.step(dt)\n",
    "    #if solver.iteration % 10 == 0:\n",
    "        # Update plot of scalar field\n",
    "    p.set_array(np.ravel(C['g'][:-1,:-1].T))\n",
    "    display.clear_output()\n",
    "    display.display(plt.gcf())\n",
    "    logger.info('Iteration: %i, Time: %e, dt: %e' %(solver.iteration, solver.sim_time, dt))\n",
    "    print(C['g'].T)\n",
    "    #time.sleep(5)\n",
    "end_time = time.time()\n",
    "\n",
    "p.set_array(np.ravel(C['g'][:-1,:-1].T))\n",
    "display.clear_output()\n",
    "# Print statistics\n",
    "logger.info('Run time: %f' %(end_time-start_time))\n",
    "logger.info('Iterations: %i' %solver.iteration)"
   ]
  },
  {
   "cell_type": "markdown",
   "metadata": {},
   "source": [
    "## Analysis\n",
    "\n",
    "As an example of doing some analysis, we will load in the horizontally averaged profiles of the scalar field $s$ and plot them."
   ]
  },
  {
   "cell_type": "code",
   "execution_count": 12,
   "metadata": {},
   "outputs": [],
   "source": [
    "# Read in the data\n",
    "f = h5py.File('analysis_tasks/analysis_tasks_s1/analysis_tasks_s1_p0.h5','r')\n",
    "r = f['/scales/r/1.0'][:]\n",
    "t = f['scales']['sim_time'][:]\n",
    "C_ave = f['tasks']['C profile'][:]\n",
    "f.close()\n",
    "\n",
    "C_ave = C_ave[:,0,:] # remove length-one x dimension"
   ]
  },
  {
   "cell_type": "code",
   "execution_count": 13,
   "metadata": {},
   "outputs": [
    {
     "ename": "IndexError",
     "evalue": "index 30 is out of bounds for axis 0 with size 30",
     "output_type": "error",
     "traceback": [
      "\u001b[0;31m---------------------------------------------------------------------------\u001b[0m",
      "\u001b[0;31mIndexError\u001b[0m                                Traceback (most recent call last)",
      "\u001b[0;32m<ipython-input-13-3b1c1d59ff6c>\u001b[0m in \u001b[0;36m<module>\u001b[0;34m\u001b[0m\n\u001b[1;32m      1\u001b[0m \u001b[0;31m#N = len(S_ave[:,1])\u001b[0m\u001b[0;34m\u001b[0m\u001b[0;34m\u001b[0m\u001b[0;34m\u001b[0m\u001b[0m\n\u001b[1;32m      2\u001b[0m \u001b[0;32mfor\u001b[0m \u001b[0mi\u001b[0m \u001b[0;32min\u001b[0m \u001b[0mrange\u001b[0m\u001b[0;34m(\u001b[0m\u001b[0;36m0\u001b[0m\u001b[0;34m,\u001b[0m\u001b[0;36m41\u001b[0m\u001b[0;34m,\u001b[0m\u001b[0;36m5\u001b[0m\u001b[0;34m)\u001b[0m\u001b[0;34m:\u001b[0m\u001b[0;34m\u001b[0m\u001b[0;34m\u001b[0m\u001b[0m\n\u001b[0;32m----> 3\u001b[0;31m   \u001b[0mplt\u001b[0m\u001b[0;34m.\u001b[0m\u001b[0mplot\u001b[0m\u001b[0;34m(\u001b[0m\u001b[0mC_ave\u001b[0m\u001b[0;34m[\u001b[0m\u001b[0mi\u001b[0m\u001b[0;34m,\u001b[0m\u001b[0;34m:\u001b[0m\u001b[0;34m]\u001b[0m\u001b[0;34m,\u001b[0m\u001b[0mr\u001b[0m\u001b[0;34m,\u001b[0m\u001b[0mlabel\u001b[0m\u001b[0;34m=\u001b[0m\u001b[0;34m't=%4.2f'\u001b[0m \u001b[0;34m%\u001b[0m\u001b[0mt\u001b[0m\u001b[0;34m[\u001b[0m\u001b[0mi\u001b[0m\u001b[0;34m]\u001b[0m\u001b[0;34m)\u001b[0m\u001b[0;34m\u001b[0m\u001b[0;34m\u001b[0m\u001b[0m\n\u001b[0m\u001b[1;32m      4\u001b[0m \u001b[0;34m\u001b[0m\u001b[0m\n\u001b[1;32m      5\u001b[0m \u001b[0mplt\u001b[0m\u001b[0;34m.\u001b[0m\u001b[0mylim\u001b[0m\u001b[0;34m(\u001b[0m\u001b[0;34m[\u001b[0m\u001b[0;36m1\u001b[0m\u001b[0;34m,\u001b[0m\u001b[0;36m2\u001b[0m\u001b[0;34m]\u001b[0m\u001b[0;34m)\u001b[0m\u001b[0;34m\u001b[0m\u001b[0;34m\u001b[0m\u001b[0m\n",
      "\u001b[0;31mIndexError\u001b[0m: index 30 is out of bounds for axis 0 with size 30"
     ]
    },
    {
     "data": {
      "image/png": "[encoded data removed]",
      "text/plain": [
       "<Figure size 432x288 with 1 Axes>"
      ]
     },
     "metadata": {
      "needs_background": "light"
     },
     "output_type": "display_data"
    }
   ],
   "source": [
    "#N = len(S_ave[:,1])\n",
    "for i in range(0,41,5):\n",
    "  plt.plot(C_ave[i,:],r,label='t=%4.2f' %t[i])\n",
    "\n",
    "plt.ylim([1,2])\n",
    "plt.xlim([0,np.pi])\n",
    "plt.xlabel(r'$\\frac{2}{\\pi}\\int \\ C d\\theta$',fontsize=24)\n",
    "plt.ylabel(r'$r$',fontsize=24)\n",
    "plt.legend(loc='lower right').draw_frame(False)"
   ]
  }
 ],
 "metadata": {
  "kernelspec": {
   "display_name": "Python 3",
   "language": "python",
   "name": "python3"
  },
  "language_info": {
   "codemirror_mode": {
    "name": "ipython",
    "version": 3
   },
   "file_extension": ".py",
   "mimetype": "text/x-python",
   "name": "python",
   "nbconvert_exporter": "python",
   "pygments_lexer": "ipython3",
   "version": "3.8.6"
  }
 },
 "nbformat": 4,
 "nbformat_minor": 1
}
